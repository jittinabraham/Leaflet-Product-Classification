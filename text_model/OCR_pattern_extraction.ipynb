{
  "cells": [
    {
      "cell_type": "markdown",
      "source": [
        "<a target=\"_blank\" href=\"https://colab.research.google.com/github/ricocf/Leaflet-Product-Classification/blob/main/text_model/OCR_pattern_extraction.ipynb\">\n",
        "  <img src=\"https://colab.research.google.com/assets/colab-badge.svg\" alt=\"Open In Colab\"/>\n",
        "</a>"
      ],
      "metadata": {
        "id": "J6uEzhyKgPrq"
      }
    },
    {
      "cell_type": "markdown",
      "source": [
        "# **Library Import and Setup**"
      ],
      "metadata": {
        "id": "bHQbWM-35x3W"
      }
    },
    {
      "cell_type": "code",
      "execution_count": null,
      "metadata": {
        "id": "FENq2cP_uupa"
      },
      "outputs": [],
      "source": [
        "!pip install openpyxl\n",
        "!pip install pytesseract\n",
        "!sudo apt-get install tesseract-ocr\n",
        "!wget https://github.com/tesseract-ocr/tessdata/raw/main/deu.traineddata\n",
        "!apt-get install tesseract-ocr-deu\n",
        "!wget https://zenodo.org/record/7869954/files/products_leaflets_512.zip\n",
        "!unzip products_leaflets_512.zip\n",
        "import os\n",
        "from pytesseract import Output\n",
        "from tqdm import tqdm\n",
        "import csv\n",
        "import shutil\n",
        "import string\n",
        "import re\n",
        "import openpyxl\n",
        "from pytesseract import pytesseract as tess"
      ]
    },
    {
      "cell_type": "markdown",
      "source": [
        "# **Configuration Setup for Tesseract OCR**"
      ],
      "metadata": {
        "id": "2MtwxyvxWo2s"
      }
    },
    {
      "cell_type": "code",
      "execution_count": null,
      "metadata": {
        "id": "5UReTTzUvJF-"
      },
      "outputs": [],
      "source": [
        "temp_dir = '/usr/share/tesseract-ocr/4.00/tessdata'\n",
        "\n",
        "# Create the temporary directory\n",
        "if not os.path.exists(temp_dir):\n",
        "    os.makedirs(temp_dir)\n",
        "\n",
        "# Set the TESSDATA_PREFIX environment variable\n",
        "os.environ['TESSDATA_PREFIX'] = temp_dir\n",
        "\n",
        " #change psm values to get different config\n",
        " custom_config ='''\n",
        "  --oem 1\n",
        "  --psm 11\n",
        "  -l deu\n",
        "  -c tessedit_char_blacklist=!@#$^\"\"»«.&*->><<(^){}[]|\\\\\n",
        "  '''"
      ]
    },
    {
      "cell_type": "markdown",
      "source": [
        "### **Regular Expression Patterns**"
      ],
      "metadata": {
        "id": "gTPQ1t_QWt-l"
      }
    },
    {
      "cell_type": "code",
      "source": [
        "pattern = r'(\\d+(?:[,.]\\d+)?\\s*(?:ml|W|L|l))'\n",
        "pattern1 = r'(\\d+(?:[,.]\\d+)?[kK]?[g]=\\d+(?:[,.]\\d+)?|\\d+(?:[,.]\\d+)?[kK]?[g])'\n",
        "pattern2 = r'.*?(\\d+\\d*\\.g\\.(?:pakung|pkg|pckg|pack|pkung|Flashe)).*'\n",
        "pattern3 = r'\\b\\d+(?:,\\d+)?%[a-zA-Z]+\\b'\n",
        "pattern4 = r'(\\d+,\\d+€[a-zA-Z]+)'\n",
        "pattern5 = r'(.{4})fla[sh]{1,2}e'\n",
        "pattern6 = r'\\b0,\\d+\\b'\n",
        "pattern7 = r'\\d+x\\d+,\\d+'"
      ],
      "metadata": {
        "id": "JTNBu_YTWxJ9"
      },
      "execution_count": null,
      "outputs": []
    },
    {
      "cell_type": "markdown",
      "source": [
        "### **OCR Processing and Pattern Matching**"
      ],
      "metadata": {
        "id": "OTpdnQEcW2kK"
      }
    },
    {
      "cell_type": "code",
      "execution_count": null,
      "metadata": {
        "id": "x_blMQwNeuxq"
      },
      "outputs": [],
      "source": [
        "\n",
        "base_directory = '/content/products_leaflets_512/test'\n",
        "#base_directory = '/content/products_leaflets_512/train' #test and train has to be done seperatel\n",
        "\n",
        "# Create an Excel workbook\n",
        "workbook = openpyxl.Workbook()\n",
        "worksheet = workbook.active\n",
        "\n",
        "# Write a header row to the Excel file\n",
        "header = [\"Image File\", \"Class Name\", \"Pattern 1 Result\", \"Pattern 2 Result\", \"Pattern 3 Result\", \"Pattern 4 Result\", \"Pattern 5 Result\", \"Pattern 6 Result\",\"Pattern 7 Result\"]\n",
        "worksheet.append(header)\n",
        "\n",
        "# Iterate through all subfolders in the base directory\n",
        "for class_folder in tqdm(os.listdir(base_directory)):\n",
        "    class_path = os.path.join(base_directory, class_folder)\n",
        "\n",
        "    # Check if it's a directory\n",
        "    if os.path.isdir(class_path):\n",
        "        # Iterate through all image files in the subfolder\n",
        "        for image_file in os.listdir(class_path):\n",
        "            if image_file.lower().endswith(('.png', '.jpg', '.jpeg')):\n",
        "                image_path = os.path.join(class_path, image_file)\n",
        "                ocr_result = tess.image_to_string(image_path, lang='deu', config=custom_config)\n",
        "\n",
        "                # Find matches in the OCR text for each pattern\n",
        "                matches = re.findall(pattern, ocr_result)\n",
        "                matches1 = re.findall(pattern1, ocr_result)\n",
        "                matches2 = re.findall(pattern2, ocr_result, re.IGNORECASE | re.MULTILINE)\n",
        "                matches3 = re.findall(pattern3, ocr_result, re.IGNORECASE | re.MULTILINE)\n",
        "                matches4 = re.findall(pattern4, ocr_result, re.IGNORECASE | re.MULTILINE)\n",
        "                matches5 = re.findall(pattern5, ocr_result, re.IGNORECASE | re.MULTILINE)\n",
        "                matches6 = re.findall(pattern6, ocr_result,re.IGNORECASE | re.MULTILINE)\n",
        "                matches7 = re.findall(pattern7, ocr_result,re.IGNORECASE | re.MULTILINE)\n",
        "\n",
        "                # Check if the matches are not empty before writing to the Excel file\n",
        "                if any(matches):\n",
        "                    pattern1_result = ' '.join(matches)\n",
        "                else:\n",
        "                    pattern1_result = \"\"\n",
        "\n",
        "                if any(matches1):\n",
        "                    pattern2_result = ' '.join(matches1)\n",
        "                else:\n",
        "                    pattern2_result = \"\"\n",
        "\n",
        "                if any(matches2):\n",
        "                    pattern3_result = ' '.join(matches2)\n",
        "                else:\n",
        "                    pattern3_result = \"\"\n",
        "\n",
        "                if any(matches3):\n",
        "                    pattern4_result = ' '.join(matches3)\n",
        "                else:\n",
        "                    pattern4_result = \"\"\n",
        "\n",
        "                if any(matches4):\n",
        "                    pattern5_result = ' '.join(matches4)\n",
        "                else:\n",
        "                    pattern5_result = \"\"\n",
        "\n",
        "                if any(matches6):\n",
        "                    pattern6_result = ' '.join(matches6)\n",
        "                else:\n",
        "                    pattern6_result = \"\"\n",
        "                if any(matches7):\n",
        "                    pattern7_result = ' '.join(matches7)\n",
        "                else:\n",
        "                    pattern7_result = \"\"\n",
        "\n",
        "                # Write the results to the Excel file\n",
        "                row = [image_file, class_folder, pattern1_result, pattern2_result, pattern3_result, pattern4_result, pattern5_result, pattern6_result, pattern7_result]\n",
        "                worksheet.append(row)\n",
        "\n",
        "# Save the Excel workbook to a file\n",
        "excel_filename = \"ocr_results_pattern_psm_test11rgb.xlsx\"\n",
        "workbook.save(excel_filename)\n",
        "\n",
        "print(f\"Results written to {excel_filename}\")\n"
      ]
    },
    {
      "cell_type": "code",
      "source": [
        "excel_filename = \"ocr_results_pattern_psm_6rgb_threaded.xlsx\"\n",
        "workbook.save(excel_filename)\n",
        "print(f\"Results written to {excel_filename}\")\n"
      ],
      "metadata": {
        "id": "Q_ZteOZOA_li"
      },
      "execution_count": null,
      "outputs": []
    }
  ],
  "metadata": {
    "colab": {
      "provenance": []
    },
    "kernelspec": {
      "display_name": "Python 3",
      "name": "python3"
    },
    "language_info": {
      "name": "python"
    }
  },
  "nbformat": 4,
  "nbformat_minor": 0
}