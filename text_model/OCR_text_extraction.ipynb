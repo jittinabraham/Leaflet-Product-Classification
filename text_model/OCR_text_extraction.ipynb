{
  "cells": [
    {
      "cell_type": "markdown",
      "source": [
        "<a target=\"_blank\" href=\"https://colab.research.google.com/github/ricocf/Leaflet-Product-Classification/blob/main/text_model/OCR_text_extraction.ipynb\">\n",
        "  <img src=\"https://colab.research.google.com/assets/colab-badge.svg\" alt=\"Open In Colab\"/>\n",
        "</a>"
      ],
      "metadata": {
        "id": "E01xOW-Af2eM"
      }
    },
    {
      "cell_type": "markdown",
      "source": [
        "# **Library Import and Setup**"
      ],
      "metadata": {
        "id": "bHQbWM-35x3W"
      }
    },
    {
      "cell_type": "code",
      "execution_count": null,
      "metadata": {
        "id": "6mwG6M5sdzQj"
      },
      "outputs": [],
      "source": [
        "!pip install pytesseract\n",
        "!sudo apt-get install tesseract-ocr\n",
        "!wget https://github.com/tesseract-ocr/tessdata/raw/main/deu.traineddata\n",
        "!apt-get install tesseract-ocr-deu\n",
        "!wget https://zenodo.org/record/7869954/files/products_leaflets_512.zip\n",
        "!unzip products_leaflets_512.zip\n",
        "import re\n",
        "import os\n",
        "import openpyxl\n",
        "from PIL import Image\n",
        "import cv2\n",
        "import shutil\n",
        "import tqdm\n",
        "from tqdm import tqdm\n",
        "import pandas as pd\n",
        "import csv\n",
        "from PIL import Image\n",
        "from concurrent.futures import ThreadPoolExecutor"
      ]
    },
    {
      "cell_type": "markdown",
      "source": [
        "# **Configuration Setup for Tesseract**"
      ],
      "metadata": {
        "id": "6Fv_3-8K6SPV"
      }
    },
    {
      "cell_type": "code",
      "execution_count": null,
      "metadata": {
        "id": "mac_yf0id_hJ"
      },
      "outputs": [],
      "source": [
        "temp_dir = '/usr/share/tesseract-ocr/4.00/tessdata'\n",
        "\n",
        "if not os.path.exists(temp_dir):\n",
        "    os.makedirs(temp_dir)\n",
        "os.environ['TESSDATA_PREFIX'] = temp_dir\n",
        "#tesseract configrations in different PSM #3 6 11 12 for RGB images\n",
        "def textextraction_psm6_RGB(image_file):\n",
        "\n",
        "  custom_config ='''\n",
        "  --oem 1\n",
        "  --psm 6\n",
        "  -l deu\n",
        "  -c tessedit_char_blacklist=!@#$^\"\"»«.&*->><<(^){}[]|\\\\\n",
        "  '''\n",
        "  text_extracted=pytesseract.image_to_string(image_file,lang='deu',config=custom_config)\n",
        "  return text_extracted\n"
      ]
    },
    {
      "cell_type": "markdown",
      "source": [
        "# **Functions for Text Extraction with Different Configurations**"
      ],
      "metadata": {
        "id": "Jr5mPlj167wk"
      }
    },
    {
      "cell_type": "markdown",
      "source": [
        "**textextraction_psm12_RGB**"
      ],
      "metadata": {
        "id": "g0uXRNcV7Bfg"
      }
    },
    {
      "cell_type": "code",
      "execution_count": null,
      "metadata": {
        "id": "YvcyVaR7kQfP"
      },
      "outputs": [],
      "source": [
        "def textextraction_psm12_RGB(image_file):\n",
        "    os.environ['TESSDATA_PREFIX'] = temp_dir\n",
        "    custom_config ='''\n",
        "    --oem 1\n",
        "    --psm 12\n",
        "    -l deu\n",
        "    -c tessedit_char_blacklist=!@#$^\"\"»«.&*->><<(^){}[]|\\\\\n",
        "    '''\n",
        "    text_extracted=pytesseract.image_to_string(image_file,lang='deu',config=custom_config)\n",
        "    return text_extracted"
      ]
    },
    {
      "cell_type": "markdown",
      "source": [
        "**textextraction_psm6_Gray**"
      ],
      "metadata": {
        "id": "C14O10nF7Gon"
      }
    },
    {
      "cell_type": "code",
      "execution_count": null,
      "metadata": {
        "id": "cdXxCO2Pe_Z5"
      },
      "outputs": [],
      "source": [
        "def textextraction_psm6_Gray(image_file):\n",
        "  custom_config ='''\n",
        "  --oem 1\n",
        "  --psm 6\n",
        "  -l deu\n",
        "  -c tessedit_char_blacklist=!@#$^\"\"»«.&*->><<(^){}[]|\\\\\n",
        "  '''\n",
        "  image = cv2.imread(image_file)\n",
        "  gray_image = cv2.cvtColor(image, cv2.COLOR_BGR2GRAY)\n",
        "  text_extracted=pytesseract.image_to_string(gray_image,lang='deu',config=custom_config)\n",
        "  return text_extracted"
      ]
    },
    {
      "cell_type": "markdown",
      "source": [
        "**textextraction_psm12_Gray**"
      ],
      "metadata": {
        "id": "0xqE1Uzp7MST"
      }
    },
    {
      "cell_type": "code",
      "execution_count": null,
      "metadata": {
        "id": "R0vtYhkslEPL"
      },
      "outputs": [],
      "source": [
        "def textextraction_psm12_Gray(image_file):\n",
        "    os.environ['TESSDATA_PREFIX'] = temp_dir\n",
        "    custom_config ='''\n",
        "    --oem 1\n",
        "    --psm 12\n",
        "    -l deu\n",
        "    -c tessedit_char_blacklist=!@#$^\"\"»«.&*->><<(^){}[]|\\\\\n",
        "    '''\n",
        "    image = cv2.imread(image_file)\n",
        "    gray_image = cv2.cvtColor(image, cv2.COLOR_BGR2GRAY)\n",
        "    text_extracted=pytesseract.image_to_string(gray_image,lang='deu',config=custom_config)\n",
        "    text_extracted=pytesseract.image_to_string(gray_image,lang='deu',config=custom_config)\n",
        "    return text_extracted"
      ]
    },
    {
      "cell_type": "markdown",
      "source": [
        "# **Multithreaded Image Processing and Results**"
      ],
      "metadata": {
        "id": "JNhP3Ktv7TMX"
      }
    },
    {
      "cell_type": "code",
      "execution_count": null,
      "metadata": {
        "id": "HSNxj44moU4R"
      },
      "outputs": [],
      "source": [
        "main_folder = '/content/products_leaflets_512/test'\n",
        "#main_folder = '/content/products_leaflets_512/test' #test and train has to be done seperately\n",
        "csv_filename = \"ocr_result_test.csv\"\n",
        "header = [\"Image File\", \"PSM6 RGB\",\"PSM6 Gray\",\"PSM12 RGB\",\"PSM 12 Gray\",\"Class Name\"]\n",
        "\n",
        "with open(csv_filename, 'w', newline='') as csvfile:\n",
        "    csv_writer = csv.writer(csvfile)\n",
        "    csv_writer.writerow(header)\n",
        "\n",
        "\n",
        "    def process_image(image_file, folder_name):\n",
        "        image_path = os.path.join(main_folder, folder_name, image_file)\n",
        "        ocr_result_psm6_RGB = textextraction_psm6_RGB(image_path)\n",
        "        ocr_result_psm6_Gray = textextraction_psm6_Gray(image_path)\n",
        "        ocr_result_psm11_RGB = textextraction_psm12_RGB(image_path)\n",
        "        ocr_result_psm11_Gray = textextraction_psm12_Gray(image_path)\n",
        "        row = [image_file, ocr_result_psm6_RGB,ocr_result_psm6_Gray, ocr_result_psm11_RGB, ocr_result_psm11_Gray, folder_name]\n",
        "        csv_writer.writerow(row)\n",
        "\n",
        "    for folder_name in tqdm(os.listdir(main_folder)):\n",
        "        folder_path = os.path.join(main_folder, folder_name)\n",
        "\n",
        "        if os.path.isdir(folder_path):\n",
        "            image_files_to_process = [f for f in os.listdir(folder_path) if f.lower().endswith(('.png', '.jpg', '.jpeg'))]\n",
        "\n",
        "            with ThreadPoolExecutor() as executor:\n",
        "                executor.map(process_image, image_files_to_process, [folder_name]*len(image_files_to_process))\n",
        "\n",
        "print(f\"Results written to {csv_filename}\")\n"
      ]
    }
  ],
  "metadata": {
    "colab": {
      "provenance": []
    },
    "kernelspec": {
      "display_name": "Python 3",
      "name": "python3"
    },
    "language_info": {
      "name": "python"
    }
  },
  "nbformat": 4,
  "nbformat_minor": 0
}